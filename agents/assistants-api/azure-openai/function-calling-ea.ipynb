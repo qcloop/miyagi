{
 "cells": [
  {
   "cell_type": "markdown",
   "metadata": {},
   "source": [
    "# Equity Analyst Agent with Assistants API and Function calling\n",
    "\n",
    "### This notebook showcases the capabilities of Azure OpenAI's Assistants API for an Equity Analyst Agent. "
   ]
  },
  {
   "cell_type": "markdown",
   "metadata": {},
   "source": [
    "Install the necessary Python packages (openai, matplotlib, tenacity, python-dotenv) for the notebook to function."
   ]
  },
  {
   "cell_type": "code",
   "execution_count": null,
   "metadata": {},
   "outputs": [],
   "source": [
    "%pip -qqq install openai==1.13.4 matplotlib tenacity python-dotenv yfinance"
   ]
  },
  {
   "cell_type": "markdown",
   "metadata": {},
   "source": [
    "Imports the necessary Python modules and classes used in the notebook. Note the openai module is used to interact with the Assistants API."
   ]
  },
  {
   "cell_type": "code",
   "execution_count": 1,
   "metadata": {},
   "outputs": [],
   "source": [
    "import os\n",
    "from pathlib import Path\n",
    "from dotenv import load_dotenv\n",
    "from openai import AzureOpenAI\n",
    "from openai.types.beta import Thread\n",
    "from openai.types.beta.threads import Run\n",
    "\n",
    "from tenacity import RetryError\n",
    "import yfinance as yf\n",
    "import requests\n",
    "from azure_ai_util import AzureAIUtils, NotCompletedException"
   ]
  },
  {
   "cell_type": "markdown",
   "metadata": {},
   "source": [
    "### Initialize Azure OpenAI Client\n",
    "This cell crucial for establishing communication with Azure OpenAI services. \n",
    "\n",
    "- **Requirement**: Ensure that a `.env` file exists in the same directory as this notebook. This file should contain the necessary API credentials and configuration details, which you can obtain from https://ai.azure.com "
   ]
  },
  {
   "cell_type": "code",
   "execution_count": 2,
   "metadata": {},
   "outputs": [],
   "source": [
    "load_dotenv(\".env\")\n",
    "client = AzureOpenAI(api_key=os.getenv(\"OPENAI_API_KEY\"), \n",
    "                     azure_endpoint=os.getenv(\"OPENAI_ENDPOINT\"),\n",
    "                     api_version=\"2024-02-15-preview\")\n",
    "\n",
    "utils = AzureAIUtils(client)"
   ]
  },
  {
   "cell_type": "markdown",
   "metadata": {},
   "source": [
    "### Create the assistant with tools and files\n",
    "\n",
    "\n",
    "The `create_assistant` function creates an assistant with tools and files. The function takes the following parameters:\n",
    "- `name`: The name of the assistant.\n",
    "- `instructions`: The system message (or meta prompt) that gives the assistant a persona and context.\n",
    "- `tools`: A list of tools that the assistant can use to perform tasks. Currently, these are `code_intrepreter` and `retriever`.\n",
    "- `functions`: Custom functions that the assistant can use to perform tasks. Similar to function calling feature.\n",
    "- `model`: The name of the model to use for the assistant."
   ]
  },
  {
   "cell_type": "code",
   "execution_count": 3,
   "metadata": {},
   "outputs": [],
   "source": [
    "DATA_COLLECTION_LOGIC_APPS_URI = os.getenv(\"DATA_COLLECTION_LOGIC_APPS_URI\")\n",
    "\n",
    "def get_proprietary_data(ticker: str, data_type: str, email: str) -> None:\n",
    "    json_payload = {\"ticker\": ticker, \"data_type\": data_type, \"email\": email}\n",
    "    headers = {\"Content-Type\": \"application/json\"}\n",
    "    response = requests.post(DATA_COLLECTION_LOGIC_APPS_URI, json=json_payload, headers=headers)\n",
    "    if response.status_code == 202:\n",
    "        print(\"Email sent to: \" + json_payload[\"to\"])\n",
    "\n",
    "def get_current_share_price(ticker: str) -> float:\n",
    "    stock = yf.Ticker(ticker)\n",
    "    return stock.history(period=\"1d\")[\"Close\"].iloc[-1]"
   ]
  },
  {
   "cell_type": "code",
   "execution_count": 4,
   "metadata": {},
   "outputs": [],
   "source": [
    "# Fetch the files under the datasets directory\n",
    "DATASETS = \"datasets/\"\n",
    "\n",
    "assistant_files = [utils.upload_file(Path(DATASETS) / file) for file in os.listdir(DATASETS)]\n",
    "file_ids = [file.id for file in assistant_files]"
   ]
  },
  {
   "cell_type": "markdown",
   "metadata": {},
   "source": [
    "Create the assistant with tools and files"
   ]
  },
  {
   "cell_type": "code",
   "execution_count": 5,
   "metadata": {},
   "outputs": [],
   "source": [
    "tools_list = [\n",
    "    {\"type\": \"code_interpreter\"},\n",
    "    {\n",
    "        \"type\": \"function\",\n",
    "        \"function\": {\n",
    "            \"name\": \"get_proprietary_data\",\n",
    "            \"description\": \"Gets proprietary data from a Logic Apps workflow and notifies the user via email.\",\n",
    "            \"parameters\": {\n",
    "                \"type\": \"object\",\n",
    "                \"properties\": {\n",
    "                    \"ticker\": {\"type\": \"string\", \"description\": \"The stock ticker symbol.\"},\n",
    "                    \"data_type\": {\"type\": \"string\", \"description\": \"The type of data to retrieve. ARPU, EPS, Margin, etc.\"},\n",
    "                    \"email\": {\"type\": \"string\", \"description\": \"The email address to notify.\"}\n",
    "                },\n",
    "                \"required\": [\"to\", \"content\"],\n",
    "            },\n",
    "        },\n",
    "    },\n",
    "    {\n",
    "        \"type\": \"function\",\n",
    "        \"function\": {\n",
    "            \"name\": \"get_current_share_price\",\n",
    "            \"description\": \"Get the current share price of a stock or symbol.\",\n",
    "            \"parameters\": {\n",
    "                \"type\": \"object\",\n",
    "                \"properties\": {\"ticker\": {\"type\": \"string\", \"description\": \"The ticker of the stock\"}},\n",
    "                \"required\": [\"ticker\"],\n",
    "            },\n",
    "        },\n",
    "    }\n",
    "]"
   ]
  },
  {
   "cell_type": "code",
   "execution_count": 6,
   "metadata": {},
   "outputs": [],
   "source": [
    "def call_functions(client: AzureOpenAI, thread: Thread, run: Run) -> None:\n",
    "    print(\"Function Calling\")\n",
    "    required_actions = run.required_action.submit_tool_outputs.model_dump()\n",
    "    print(required_actions)\n",
    "    tool_outputs = []\n",
    "    import json\n",
    "\n",
    "    for action in required_actions[\"tool_calls\"]:\n",
    "        func_name = action[\"function\"][\"name\"]\n",
    "        arguments = json.loads(action[\"function\"][\"arguments\"])\n",
    "\n",
    "        if func_name == \"get_current_share_price\":\n",
    "            output = get_current_share_price(ticker=arguments[\"ticker\"])\n",
    "            tool_outputs.append({\"tool_call_id\": action[\"id\"], \"output\": output})\n",
    "        elif func_name == \"get_proprietary_data\":\n",
    "            print(\"Fetching proprietary data\")\n",
    "            ticker = arguments[\"ticker\"]\n",
    "            data_type = arguments[\"data_type\"]\n",
    "            email = arguments[\"email\"]\n",
    "            get_proprietary_data(ticker, data_type, email)\n",
    "\n",
    "            tool_outputs.append({\"tool_call_id\": action[\"id\"], \"output\": \"Fetched proprietary data and notified user.\"})\n",
    "        else:\n",
    "            raise ValueError(f\"Unknown function: {func_name}\")\n",
    "\n",
    "    print(\"Sending tool outputs to the thread.\")\n",
    "    client.beta.threads.runs.submit_tool_outputs(thread_id=thread.id, run_id=run.id, tool_outputs=tool_outputs)"
   ]
  },
  {
   "cell_type": "code",
   "execution_count": 7,
   "metadata": {},
   "outputs": [],
   "source": [
    "assistant = client.beta.assistants.create(\n",
    "    name=\"Equity Analyst\",\n",
    "    instructions=(\"You are an equity analyst that performs analysis on the given datasets. \"\n",
    "                  \"Use the given tools to help you gather data and perform analysis.\"\n",
    "                  \"With your tools, you can retrieve the latest stock price, fetch proprietary data, and notify user.\"),\n",
    "    tools=tools_list,\n",
    "    file_ids=file_ids,\n",
    "    model=os.getenv(\"OPENAI_MODEL_NAME\")\n",
    ")"
   ]
  },
  {
   "cell_type": "markdown",
   "metadata": {},
   "source": [
    "Create a thread, which represents a conversation. It is recommended to create one thread per user. "
   ]
  },
  {
   "cell_type": "code",
   "execution_count": 8,
   "metadata": {},
   "outputs": [],
   "source": [
    "thread = client.beta.threads.create()"
   ]
  },
  {
   "cell_type": "code",
   "execution_count": 9,
   "metadata": {},
   "outputs": [],
   "source": [
    "from tenacity import retry, stop_after_attempt, wait_exponential, retry_if_exception_type\n",
    "\n",
    "@retry(\n",
    "    stop=stop_after_attempt(15),\n",
    "    wait=wait_exponential(multiplier=1.5, min=4, max=20),\n",
    "    retry=retry_if_exception_type(NotCompletedException),\n",
    ")\n",
    "def get_run_lifecycle_status(thread_id, run_id):\n",
    "    run = client.beta.threads.runs.retrieve(thread_id=thread_id, run_id=run_id)\n",
    "    print(f\"Run status: {run.status}\")\n",
    "    if run.status in [\"completed\", \"failed\", \"expired\", \"cancelled\"]:\n",
    "        print(f\"Run info: {run}\")\n",
    "        return run\n",
    "    elif run.status == \"requires_action\":\n",
    "        print(f\"Run requires action: {run}\")\n",
    "        call_functions(client, thread, run)\n",
    "    else:\n",
    "        raise NotCompletedException(\"Run not completed yet\")"
   ]
  },
  {
   "cell_type": "markdown",
   "metadata": {},
   "source": [
    "Create a thread run"
   ]
  },
  {
   "cell_type": "code",
   "execution_count": 10,
   "metadata": {},
   "outputs": [],
   "source": [
    "def analyst_assistant(content: str):\n",
    "    client.beta.threads.messages.create(thread_id=thread.id, role=\"user\", content=content)\n",
    "\n",
    "    run = client.beta.threads.runs.create(\n",
    "        thread_id=thread.id,\n",
    "        assistant_id=assistant.id,\n",
    "        instructions=f\"You are a equity analyst who maps out the ask of the user to an equity analyst's task and thinks step by step to analyze, including making use of the tools. Make generic assumptions\",\n",
    "    )\n",
    "\n",
    "    try:\n",
    "        run = get_run_lifecycle_status(thread.id, run.id)\n",
    "        messages = client.beta.threads.messages.list(thread_id=thread.id)\n",
    "        utils.format_response(messages)\n",
    "    except RetryError:\n",
    "        print(\"Operation failed or timed out after maximum retries.\")\n",
    "    except NotCompletedException:\n",
    "        print(\"Operation did not complete in the expected status.\")\n"
   ]
  },
  {
   "cell_type": "markdown",
   "metadata": {},
   "source": [
    "### Have the assistant perform a DCF valuation"
   ]
  },
  {
   "cell_type": "code",
   "execution_count": 11,
   "metadata": {},
   "outputs": [
    {
     "name": "stdout",
     "output_type": "stream",
     "text": [
      "Run status: queued\n",
      "Run status: in_progress\n",
      "Run status: in_progress\n",
      "Run status: in_progress\n",
      "Run status: requires_action\n",
      "Run requires action: Run(id='run_r6wfKq7DvocH4FmYdLiX8qWs', assistant_id='asst_tSCqWMgRDEfI2Eye7j8rnWvv', cancelled_at=None, completed_at=None, created_at=1711108374, expires_at=1711108974, failed_at=None, file_ids=['assistant-rtQ2YaWAV4OgLAghajqeF7ip'], instructions=\"You are a equity analyst who maps out the ask of the user to an equity analyst's task and thinks step by step to analyze, including making use of the tools. Make generic assumptions\", last_error=None, metadata={}, model='gpt-4', object='thread.run', required_action=RequiredAction(submit_tool_outputs=RequiredActionSubmitToolOutputs(tool_calls=[RequiredActionFunctionToolCall(id='call_QCsbS1UR4KoLhlnQL0tcQo9E', function=Function(arguments='{\"ticker\": \"MSFT\"}', name='get_current_share_price'), type='function'), RequiredActionFunctionToolCall(id='call_ohwYfwkyNGrKQxQtglRo4jRM', function=Function(arguments='{\"ticker\": \"JPM\"}', name='get_current_share_price'), type='function'), RequiredActionFunctionToolCall(id='call_jquFifSPkfdvx2O6rbvz9Pdd', function=Function(arguments='{\"ticker\": \"MSFT\", \"data_type\": \"ARPU\", \"email\": \"gok@microsoft.com\"}', name='get_proprietary_data'), type='function'), RequiredActionFunctionToolCall(id='call_STjbsZ7AORRATo9W2lYNkfU2', function=Function(arguments='{\"ticker\": \"JPM\", \"data_type\": \"ARPU\", \"email\": \"gok@microsoft.com\"}', name='get_proprietary_data'), type='function')]), type='submit_tool_outputs'), started_at=1711108375, status='requires_action', thread_id='thread_9NyRvKIEEIBoaG22zvtjPfCR', tools=[ToolAssistantToolsCode(type='code_interpreter'), ToolAssistantToolsFunction(function=FunctionDefinition(name='get_proprietary_data', description='Gets proprietary data from a Logic Apps workflow and notifies the user via email.', parameters={'type': 'object', 'properties': {'ticker': {'type': 'string', 'description': 'The stock ticker symbol.'}, 'data_type': {'type': 'string', 'description': 'The type of data to retrieve. ARPU, EPS, Margin, etc.'}, 'email': {'type': 'string', 'description': 'The email address to notify.'}}, 'required': ['to', 'content']}), type='function'), ToolAssistantToolsFunction(function=FunctionDefinition(name='get_current_share_price', description='Get the current share price of a stock or symbol.', parameters={'type': 'object', 'properties': {'ticker': {'type': 'string', 'description': 'The ticker of the stock'}}, 'required': ['ticker']}), type='function')], usage=None)\n",
      "Function Calling\n",
      "{'tool_calls': [{'id': 'call_QCsbS1UR4KoLhlnQL0tcQo9E', 'function': {'arguments': '{\"ticker\": \"MSFT\"}', 'name': 'get_current_share_price'}, 'type': 'function'}, {'id': 'call_ohwYfwkyNGrKQxQtglRo4jRM', 'function': {'arguments': '{\"ticker\": \"JPM\"}', 'name': 'get_current_share_price'}, 'type': 'function'}, {'id': 'call_jquFifSPkfdvx2O6rbvz9Pdd', 'function': {'arguments': '{\"ticker\": \"MSFT\", \"data_type\": \"ARPU\", \"email\": \"gok@microsoft.com\"}', 'name': 'get_proprietary_data'}, 'type': 'function'}, {'id': 'call_STjbsZ7AORRATo9W2lYNkfU2', 'function': {'arguments': '{\"ticker\": \"JPM\", \"data_type\": \"ARPU\", \"email\": \"gok@microsoft.com\"}', 'name': 'get_proprietary_data'}, 'type': 'function'}]}\n",
      "Fetching proprietary data\n",
      "Fetching proprietary data\n",
      "Sending tool outputs to the thread.\n",
      "user:\n",
      "Get MSFT and JPM share price along with ARPU for 10/1/2023 to 12/31/2023 and notify gok@microsoft.com.\n",
      "\n"
     ]
    }
   ],
   "source": [
    "analyst_assistant(\"Get MSFT and JPM share price along with ARPU for 10/1/2023 to 12/31/2023 and notify gok@microsoft.com.\")"
   ]
  },
  {
   "cell_type": "code",
   "execution_count": 12,
   "metadata": {},
   "outputs": [
    {
     "name": "stdout",
     "output_type": "stream",
     "text": [
      "Run status: in_progress\n",
      "Run status: in_progress\n",
      "Run status: in_progress\n",
      "Run status: in_progress\n",
      "Run status: in_progress\n",
      "Run status: in_progress\n",
      "Run status: in_progress\n",
      "Run status: in_progress\n",
      "Run status: in_progress\n",
      "Run status: in_progress\n",
      "Run status: in_progress\n",
      "Run status: in_progress\n",
      "Run status: in_progress\n",
      "Run status: completed\n",
      "Run info: Run(id='run_erkBw3G0eKHDsu9UalLFFbkB', assistant_id='asst_tSCqWMgRDEfI2Eye7j8rnWvv', cancelled_at=None, completed_at=1711108702, created_at=1711108494, expires_at=None, failed_at=None, file_ids=['assistant-rtQ2YaWAV4OgLAghajqeF7ip'], instructions=\"You are a equity analyst who maps out the ask of the user to an equity analyst's task and thinks step by step to analyze, including making use of the tools. Make generic assumptions\", last_error=None, metadata={}, model='gpt-4', object='thread.run', required_action=None, started_at=1711108495, status='completed', thread_id='thread_9NyRvKIEEIBoaG22zvtjPfCR', tools=[ToolAssistantToolsCode(type='code_interpreter'), ToolAssistantToolsFunction(function=FunctionDefinition(name='get_proprietary_data', description='Gets proprietary data from a Logic Apps workflow and notifies the user via email.', parameters={'type': 'object', 'properties': {'ticker': {'type': 'string', 'description': 'The stock ticker symbol.'}, 'data_type': {'type': 'string', 'description': 'The type of data to retrieve. ARPU, EPS, Margin, etc.'}, 'email': {'type': 'string', 'description': 'The email address to notify.'}}, 'required': ['to', 'content']}), type='function'), ToolAssistantToolsFunction(function=FunctionDefinition(name='get_current_share_price', description='Get the current share price of a stock or symbol.', parameters={'type': 'object', 'properties': {'ticker': {'type': 'string', 'description': 'The ticker of the stock'}}, 'required': ['ticker']}), type='function')], usage=None)\n",
      "user:\n",
      "Perform a discounted cash flow valuation using the provided dataset, and print the code along with its executed output that was used for this calculation.\n",
      "\n",
      "assistant:\n",
      "To perform a discounted cash flow (DCF) valuation, I'll need to follow several steps. First, I will load the dataset you provided to understand its content and structure. Based on the data available, I will then proceed to calculate the DCF valuation. This typically involves:\n",
      "\n",
      "1. Estimating the free cash flows (FCFs) for the company over a forecast period.\n",
      "2. Calculating the Weighted Average Cost of Capital (WACC) to use as a discount rate.\n",
      "3. Discounting the forecasted FCFs back to their present value.\n",
      "4. Estimating the terminal value at the end of the forecast period.\n",
      "5. Discounting the terminal value back to its present value.\n",
      "6. Calculating the total present value of the company by adding the present values of forecasted FCFs and terminal value.\n",
      "7. Subtracting net debt from the total present value to get the equity value.\n",
      "8. Dividing the equity value by the number of outstanding shares to arrive at an intrinsic value per share.\n",
      "\n",
      "However, without knowing the content of the dataset you provided, I can only give a generic overview of what the Python code might look like. \n",
      "\n",
      "First, let's load the dataset and take a look at its content. After understanding the structure and the information provided in the dataset, I'll be able to construct and execute the appropriate Python code for the DCF analysis. Let me load the file and inspect the data.\n",
      "\n",
      "assistant:\n",
      "The dataset contains forecasted financials for a company for the years 2024 through 2028. It includes the following columns:\n",
      "\n",
      "- `Year`: The forecasted year.\n",
      "- `Projected Revenue`: The forecasted revenue for the year.\n",
      "- `Projected EBIT`: The forecasted earnings before interest and taxes (EBIT) for the year.\n",
      "- `Projected Net Income`: The forecasted net income for the year.\n",
      "- `Projected Free Cash Flow (FCF)`: The forecasted free cash flow for the year.\n",
      "- `Discount Factor`: The factor by which the FCFs are to be discounted to present value (PV).\n",
      "- `Present Value of FCF`: The FCFs discounted back to their present value based on the corresponding discount factor.\n",
      "\n",
      "Let's move forward with the DCF calculation. First, we'll calculate the present value of the projected free cash flows and then compute the terminal value. After that, we can discount the terminal value back to the present value using the last available discount factor and proceed with summing up the present values to get the total present value of the company. For this exercise, I'll make several assumptions since the cost of capital, growth rate, and net debt are not provided in the dataset. We will also assume the number of outstanding shares.\n",
      "\n",
      "I'll go ahead with the calculation and show the full code.\n",
      "\n",
      "assistant:\n",
      "Using the data provided and the assumptions made, here's a summary of the DCF valuation calculation:\n",
      "\n",
      "- Sum of present values of the projected free cash flows (FCFs) from 2024 to 2028: \\$200.32 billion\n",
      "- Terminal value at the end of 2028 (using a 2.5% perpetual growth rate): \\$739.27 billion\n",
      "- Present value of the terminal value: \\$527.09 billion\n",
      "- Total present value of the enterprise (PV of FCFs + PV of terminal value): \\$727.41 billion\n",
      "- Equity value after subtracting net debt of \\$30 billion: \\$697.41 billion\n",
      "- Intrinsic value per share (based on 7.5 billion shares outstanding): \\$92.99\n",
      "\n",
      "Please keep in mind that these figures are based on several assumptions, including a weighted average cost of capital (WACC) of 10%, a perpetual growth rate of 2.5%, $30 billion in net debt, and 7.5 billion shares outstanding.\n",
      "\n",
      "Here's the Python code that was used for this calculation along with its output:\n",
      "\n",
      "```python\n",
      "import pandas as pd\n",
      "\n",
      "# Load the dataset\n",
      "file_path = '/mnt/data/assistant-rtQ2YaWAV4OgLAghajqeF7ip'\n",
      "data = pd.read_csv(file_path)\n",
      "\n",
      "# Assumptions\n",
      "perpetual_growth_rate = 0.025\n",
      "wacc = 0.10\n",
      "net_debt = 30e9  # $30 billion\n",
      "num_shares = 7.5e9  # 7.5 billion shares\n",
      "\n",
      "# DCF Calculation\n",
      "pv_of_fcfs = data['Present Value of FCF'].sum()\n",
      "last_year_fcf = data.iloc[-1]['Projected Free Cash Flow']\n",
      "terminal_value = last_year_fcf * (1 + perpetual_growth_rate) / (wacc - perpetual_growth_rate)\n",
      "last_discount_factor = data.iloc[-1]['Discount Factor']\n",
      "pv_of_terminal_value = terminal_value * last_discount_factor\n",
      "total_enterprise_value = pv_of_fcfs + pv_of_terminal_value\n",
      "equity_value = total_enterprise_value - net_debt\n",
      "intrinsic_value_per_share = equity_value / num_shares\n",
      "\n",
      "# Output\n",
      "pv_of_fcfs, terminal_value, pv_of_terminal_value, total_enterprise_value, equity_value, intrinsic_value_per_share\n",
      "```\n",
      "\n",
      "The executed output is as follows:\n",
      "\n",
      "- Sum of present values of projected FCFs: \\$200.32 billion\n",
      "- Terminal value: \\$739.27 billion\n",
      "- Present value of the terminal value: \\$527.09 billion\n",
      "- Total enterprise value: \\$727.41 billion\n",
      "- Equity value: \\$697.41 billion\n",
      "- Intrinsic value per share: \\$92.99\n",
      "\n",
      "These calculations are crucial in helping investors determine whether a stock is over or undervalued compared to its current trading price. It's worth noting that DCF is highly sensitive to the inputs, specifically the discount rate and growth assumptions, so changing these can significantly alter the valuation outcome.\n",
      "\n"
     ]
    }
   ],
   "source": [
    "analyst_assistant(\"Perform a discounted cash flow valuation using the provided dataset, and print the code along with its executed output that was used for this calculation.\")"
   ]
  },
  {
   "cell_type": "code",
   "execution_count": 13,
   "metadata": {},
   "outputs": [
    {
     "name": "stdout",
     "output_type": "stream",
     "text": [
      "Run status: queued\n",
      "Run status: in_progress\n",
      "Run status: in_progress\n",
      "Run status: in_progress\n",
      "Run status: in_progress\n",
      "Run status: in_progress\n",
      "Run status: in_progress\n",
      "Run status: in_progress\n",
      "Run status: in_progress\n",
      "Run status: in_progress\n",
      "Run status: in_progress\n",
      "Run status: in_progress\n",
      "Run status: completed\n",
      "Run info: Run(id='run_JA21kYNouuit98t9mXIiBggB', assistant_id='asst_tSCqWMgRDEfI2Eye7j8rnWvv', cancelled_at=None, completed_at=1711109519, created_at=1711109327, expires_at=None, failed_at=None, file_ids=['assistant-rtQ2YaWAV4OgLAghajqeF7ip'], instructions=\"You are a equity analyst who maps out the ask of the user to an equity analyst's task and thinks step by step to analyze, including making use of the tools. Make generic assumptions\", last_error=None, metadata={}, model='gpt-4', object='thread.run', required_action=None, started_at=1711109328, status='completed', thread_id='thread_9NyRvKIEEIBoaG22zvtjPfCR', tools=[ToolAssistantToolsCode(type='code_interpreter'), ToolAssistantToolsFunction(function=FunctionDefinition(name='get_proprietary_data', description='Gets proprietary data from a Logic Apps workflow and notifies the user via email.', parameters={'type': 'object', 'properties': {'ticker': {'type': 'string', 'description': 'The stock ticker symbol.'}, 'data_type': {'type': 'string', 'description': 'The type of data to retrieve. ARPU, EPS, Margin, etc.'}, 'email': {'type': 'string', 'description': 'The email address to notify.'}}, 'required': ['to', 'content']}), type='function'), ToolAssistantToolsFunction(function=FunctionDefinition(name='get_current_share_price', description='Get the current share price of a stock or symbol.', parameters={'type': 'object', 'properties': {'ticker': {'type': 'string', 'description': 'The ticker of the stock'}}, 'required': ['ticker']}), type='function')], usage=None)\n",
      "user:\n",
      "Summarize and Visualize this information to someone new to finance and investing.\n",
      "\n",
      "assistant:\n",
      "Certainly! Let's break down the discounted cash flow (DCF) valuation process and results into an understandable summary for someone new to finance and investing.\n",
      "\n",
      "**1. What is DCF Valuation?**\n",
      "Discounted Cash Flow (DCF) valuation is a method used to estimate the value of an investment based on its expected future cash flows. It calculates the present value of the cash that an investment is expected to generate in the future. In the case of a company, these are the cash flows it can provide to investors after each year of operation.\n",
      "\n",
      "**2. Key Concepts:**\n",
      "- **Free Cash Flow (FCF):** The cash a company generates after accounting for cash outflows to support operations and maintain its capital assets.\n",
      "- **Discount Rate:** This is the investor's expected rate of return. It reflects the cost of capital such as the interest rate.\n",
      "- **Present Value (PV):** The current value of future cash flows, adjusted for the time value of money (money available now is worth more than the same amount in the future due to its potential earning capacity).\n",
      "- **Terminal Value (TV):** The value of the company at the end of the forecast period when we assume a stable growth rate forever.\n",
      "- **Enterprise Value (EV):** The total value of the company, including the value of its equity and debt.\n",
      "- **Equity Value:** The value of the company that is attributable to shareholders after subtracting debt.\n",
      "- **Intrinsic Value Per Share:** The value of each share of the company calculated by dividing the equity value by the number of outstanding shares.\n",
      "\n",
      "**3. Visual Representation:**\n",
      "\n",
      "To make this easy to visualize, let's create a simple chart that will illustrate the projected Free Cash Flows and their Present Value over the next 5 years, and then we'll indicate the Terminal Value. \n",
      "\n",
      "We will not go into the calculations of the Weighted Average Cost of Capital (WACC), perpetual growth rate, and other more complex factors, as they require advanced understanding. Instead, we'll focus on the end results that are directly relevant for an investor.\n",
      "\n",
      "Let's create a chart for visual representation.\n",
      "\n"
     ]
    },
    {
     "data": {
      "image/png": "[encoded data removed]",
      "text/plain": [
       "<Figure size 640x480 with 1 Axes>"
      ]
     },
     "metadata": {},
     "output_type": "display_data"
    },
    {
     "name": "stdout",
     "output_type": "stream",
     "text": [
      "assistant:\n",
      "The chart above illustrates the projected free cash flows (in blue bars) and their present values (in green line) of the company for the next five years (2024 to 2028). Each blue bar represents the amount of cash that's expected to be free for investors after the company pays for all its expenses and reinvestments in a given year. The green line indicates what these future cash amounts are worth in today's dollars, considering the time value of money.\n",
      "\n",
      "**Key Points from the DCF Analysis:**\n",
      "- **Free Cash Flows:** The company is expected to generate increasing amounts of cash over the next five years.\n",
      "- **Present Value of FCFs:** Even though the future cash flows are increasing, their present values are slightly lower due to the effect of the discount rate—essentially reflecting the fact that money today is worth more than the same amount in the future.\n",
      "- **Terminal Value (Not Shown in Chart):** There's also a large value assumed at the end of these five years, which represents all future cash flows beyond this period into perpetuity. This value is adjusted to today's dollars as well.\n",
      "- **Intrinsic Value Per Share:** Using our calculations and assumptions, the intrinsic value per share is estimated to be $92.99. This means that, based on the company's expected future cash flows and our model, each share may be worth about $92.99 in today's money.\n",
      "\n",
      "For someone new to investing: If the current share price is below the intrinsic value per share, it might be considered undervalued, which could make it an attractive investment opportunity. Conversely, if the current share price is above the intrinsic value, the stock might be considered overvalued, suggesting it may not be the best investment at this price. It's important to remember that this is a simplified analysis, and actual investing decisions should be made with consideration of many factors and possibly with the help of a financial advisor.\n",
      "\n"
     ]
    }
   ],
   "source": [
    "analyst_assistant(\"Summarize and Visualize this information to someone new to finance and investing.\")"
   ]
  },
  {
   "cell_type": "markdown",
   "metadata": {},
   "source": [
    "### Delete the thread and assistant"
   ]
  },
  {
   "cell_type": "code",
   "execution_count": 29,
   "metadata": {},
   "outputs": [],
   "source": [
    "for entity in [(client.beta.assistants, assistant), (client.beta.threads, thread)]:\n",
    "    entity[0].delete(entity[1].id)\n",
    "\n",
    "for file in assistant_files:\n",
    "    client.files.delete(file.id)"
   ]
  }
 ],
 "metadata": {
  "kernelspec": {
   "display_name": "Python 3 (ipykernel)",
   "language": "python",
   "name": "python3"
  },
  "language_info": {
   "codemirror_mode": {
    "name": "ipython",
    "version": 3
   },
   "file_extension": ".py",
   "mimetype": "text/x-python",
   "name": "python",
   "nbconvert_exporter": "python",
   "pygments_lexer": "ipython3",
   "version": "3.12.3"
  }
 },
 "nbformat": 4,
 "nbformat_minor": 4
}
