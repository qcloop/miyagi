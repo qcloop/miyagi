{
 "cells": [
  {
   "cell_type": "markdown",
   "metadata": {},
   "source": [
    "# Azure Container Apps' Dynamic Sessions with Autogen\n",
    "\n",
    "Demonstrates how to use Dynamic Sessions feature of Azure Container Apps to execute code"
   ]
  },
  {
   "cell_type": "code",
   "execution_count": 1,
   "metadata": {},
   "outputs": [],
   "source": [
    "! pip -qqq install pyautogen matplotlib yfinance python-dotenv azure-identity"
   ]
  },
  {
   "cell_type": "code",
   "execution_count": 9,
   "metadata": {},
   "outputs": [],
   "source": [
    "import os\n",
    "from typing import List\n",
    "\n",
    "from autogen import ConversableAgent, config_list_from_json\n",
    "from autogen.coding import CodeBlock, CodeExecutor, CodeExtractor, CodeResult, MarkdownCodeExtractor\n",
    "\n",
    "import requests\n",
    "from typing import List"
   ]
  },
  {
   "cell_type": "markdown",
   "metadata": {},
   "source": [
    "### Setup Sessions pool and get Sessions endpoint\n",
    "\n",
    "Azure Container Apps is a serverless platform that enables you to run containerized workloads without managing the underlying infrastructure. Dynamic sessions adds the ability to execute untrusted code in secure, sandboxed environments at scale. [Learn more here](https://techcommunity.microsoft.com/t5/apps-on-azure-blog/new-secure-sandboxes-at-scale-with-azure-container-apps-dynamic/ba-p/4142148). \n",
    "\n",
    "![sessions](https://techcommunity.microsoft.com/t5/image/serverpage/image-id/581694i61DE419D1A04B7F5/image-size/large?v=v2&px=999)"
   ]
  },
  {
   "cell_type": "markdown",
   "metadata": {},
   "source": [
    "## Prerequisites\n",
    "\n",
    "1. Get the Pool endpoint from [Azure Container Apps - Sessions Code Interpreter](https://learn.microsoft.com/en-us/azure/container-apps/sessions-code-interpreter?tabs=azure-cli).\n",
    "\n",
    "2. Copy `.env.example` to `.env` and update it with your sessions endpoint and Azure OpenAI values"
   ]
  },
  {
   "cell_type": "code",
   "execution_count": 11,
   "metadata": {},
   "outputs": [],
   "source": [
    "from dotenv import load_dotenv\n",
    "import os\n",
    "\n",
    "load_dotenv()\n",
    "\n",
    "ACA_SESSIONS_ENDPOINT = os.getenv('ACA_SESSIONS_ENDPOINT')"
   ]
  },
  {
   "cell_type": "markdown",
   "metadata": {},
   "source": [
    "#### Why Managed Identity:\n",
    "Managed Identity (MI) simplifies Azure service authentication by automatically managing credentials. Using MI, there is no need to store or manage secrets in your application, significantly reducing the risk of credential leakage and enhancing security.\n",
    "\n",
    "#### How `DefaultAzureCredential` Works:\n",
    "`DefaultAzureCredential` attempts to find a best-available credential from a series of providers, including managed identity and developer credentials from Azure CLI or Visual Studio. This makes it both flexible and convenient for development and production environments without code changes.\n",
    "\n",
    "![Azure Identity](https://raw.githubusercontent.com/Azure/azure-sdk-for-net/main/sdk/identity/Azure.Identity/images/mermaidjs/DefaultAzureCredentialAuthFlow.svg)\n",
    "\n",
    "#### Setup for Azure OpenAI:\n",
    "1. **Azure Managed Identity**:\n",
    "   - Ensure that the Azure resource (e.g., Azure OpenAI, Logic Apps, AI Search) running in this notebook is assigned a Managed Identity.\n",
    "   - Configure the Managed Identity to have access to the Azure OpenAI service by setting appropriate role assignments in Azure RBAC.\n",
    "\n",
    "- **Keys required in .env File**:\n",
    "  - `OPENAI_ENDPOINT`: The endpoint URL for the Azure OpenAI service.\n",
    "  - `OPENAI_MODEL_NAME`: The deployed model name in Azure OpenAI\n"
   ]
  },
  {
   "cell_type": "markdown",
   "metadata": {},
   "source": [
    "## ACA code executor class implemented by subclassing the `CodeExecutor` protocol and implementing the `execute_code_blocks` method."
   ]
  },
  {
   "cell_type": "code",
   "execution_count": 12,
   "metadata": {},
   "outputs": [],
   "source": [
    "import requests\n",
    "from typing import List\n",
    "from azure.identity import DefaultAzureCredential\n",
    "from autogen.coding import CodeBlock, CodeExecutor, CodeExtractor, CodeResult, MarkdownCodeExtractor\n",
    "\n",
    "class ACASessionsExecutor(CodeExecutor):\n",
    "\n",
    "    @property\n",
    "    def code_extractor(self) -> CodeExtractor:\n",
    "        # Extract code from markdown blocks.\n",
    "        return MarkdownCodeExtractor()\n",
    "\n",
    "    def __init__(self, pool_management_endpoint: str) -> None:\n",
    "        self.pool_management_endpoint = pool_management_endpoint\n",
    "        self.access_token = None\n",
    "\n",
    "    def ensure_access_token(self) -> None:\n",
    "        \"\"\"Ensures that the access token is valid and updates it if necessary.\"\"\"\n",
    "        if not self.access_token:\n",
    "            credential = DefaultAzureCredential()\n",
    "            scope = \"https://dynamicsessions.io\" # \"https://acasessions.io/.default\" could also be used\n",
    "            self.access_token = credential.get_token(scope).token\n",
    "\n",
    "    def execute_code_blocks(self, code_blocks: List[CodeBlock]) -> CodeResult:\n",
    "        self.ensure_access_token()  # Ensure the access token is valid before making calls\n",
    "        log = \"\"\n",
    "        print(self.access_token)\n",
    "        \n",
    "        exitcode = 0\n",
    "        headers = {\n",
    "            \"Authorization\": f\"Bearer {self.access_token}\"\n",
    "        }\n",
    "\n",
    "        for code_block in code_blocks:\n",
    "            properties = {\n",
    "                \"identifier\": \"adslfjlad\",\n",
    "                \"codeInputType\": \"inline\",\n",
    "                \"executionType\": \"synchronous\",\n",
    "                \"pythonCode\": code_block.code,\n",
    "                \"timeoutInSeconds\": 100\n",
    "            }\n",
    "\n",
    "            try:\n",
    "                response = requests.post(\n",
    "                    self.pool_management_endpoint + \"/python/execute\",\n",
    "                    headers=headers,\n",
    "                    json={\"properties\": properties}\n",
    "                )\n",
    "                response.raise_for_status()  # Raises an HTTPError for bad responses\n",
    "                data = response.json()\n",
    "                log += data.get(\"stdout\", \"\") + data.get(\"stderr\", \"\")\n",
    "                if \"result\" in data and data[\"result\"] is not None:\n",
    "                    log += str(data[\"result\"])\n",
    "                if \"error\" in data:\n",
    "                    log += f\"\\n{data['error']}\"\n",
    "                    exitcode = 1\n",
    "            except requests.RequestException as e:\n",
    "                log += f\"\\nError while sending code block to endpoint: {str(e)}\"\n",
    "                exitcode = 1\n",
    "                break\n",
    "\n",
    "        return CodeResult(exit_code=exitcode, output=log)\n"
   ]
  },
  {
   "cell_type": "markdown",
   "metadata": {},
   "source": [
    "ACA Code executor used in Agents"
   ]
  },
  {
   "cell_type": "code",
   "execution_count": 13,
   "metadata": {},
   "outputs": [],
   "source": [
    "config_list = config_list_from_json(\n",
    "    \"OAI_CONFIG_LIST\",\n",
    "    filter_dict={\n",
    "        \"model\": [\"gpt-4\"],\n",
    "    },\n",
    ")\n",
    "\n",
    "code_writer_agent = ConversableAgent(\n",
    "    name=\"CodeWriter\",\n",
    "    system_message=\"You are a helpful AI assistant.\\n\"\n",
    "    \"You use your coding skill to solve problems.\\n\"\n",
    "    \"You have access to a IPython kernel to execute Python code.\\n\"\n",
    "    \"You output only valid python code. \\n\"\n",
    "    \"This valid code will be executed in a sandbox, resutling in result, stdout, or stderr. \\n\"\n",
    "    \"All necessary libraries have already been installed.\\n\"\n",
    "    \"Once the task is done, returns 'TERMINATE'.\",\n",
    "    llm_config={\"config_list\":config_list},\n",
    "    is_termination_msg=lambda msg: \"code output\" in msg[\"content\"]\n",
    ")\n",
    "\n",
    "aca_pool_management_endpoint = ACA_SESSIONS_ENDPOINT\n",
    "aca_sessions_executor = ACASessionsExecutor(aca_pool_management_endpoint)\n",
    "\n",
    "code_executor_agent = ConversableAgent(\n",
    "    name=\"CodeExecutor\",\n",
    "    llm_config=False,\n",
    "    code_execution_config={\"executor\": aca_sessions_executor},\n",
    "    human_input_mode=\"NEVER\",\n",
    "    is_termination_msg=lambda msg: \"TERMINATE\" in msg.get(\"content\", \"\").strip().upper(),\n",
    ")"
   ]
  },
  {
   "cell_type": "markdown",
   "metadata": {},
   "source": [
    "Simple math task for testing ACA Sessions"
   ]
  },
  {
   "cell_type": "code",
   "execution_count": null,
   "metadata": {},
   "outputs": [],
   "source": [
    "chat_result = code_executor_agent.initiate_chat(\n",
    "    code_writer_agent,\n",
    "    message=\"125 KM/hr for an American?\",\n",
    ")"
   ]
  },
  {
   "cell_type": "code",
   "execution_count": 15,
   "metadata": {},
   "outputs": [
    {
     "name": "stdout",
     "output_type": "stream",
     "text": [
      "77.67 mph\n"
     ]
    }
   ],
   "source": [
    "import re\n",
    "\n",
    "# Find the message containing 'Code output:' from assistant\n",
    "code_output_message = next((msg['content'] for msg in chat_result.chat_history if msg['role'] == 'assistant' and 'Code output:' in msg['content']), None)\n",
    "\n",
    " # Extract and round the value of 'Code output'\n",
    "if code_output_message:\n",
    "    code_output_match = re.search(r'Code output:\\s*(.*)', code_output_message)\n",
    "    if code_output_match:\n",
    "        code_output_value = code_output_match.group(1)\n",
    "        # Further processing to extract and round the numeric part if necessary\n",
    "        numeric_match = re.search(r'(\\d+\\.\\d+)', code_output_value)\n",
    "        if numeric_match:\n",
    "            rounded_value = round(float(numeric_match.group(1)), 2)\n",
    "            code_output_value = f\"{rounded_value} mph\"\n",
    "\n",
    "print(code_output_value)"
   ]
  }
 ],
 "metadata": {
  "kernelspec": {
   "display_name": "autogen",
   "language": "python",
   "name": "python3"
  },
  "language_info": {
   "codemirror_mode": {
    "name": "ipython",
    "version": 3
   },
   "file_extension": ".py",
   "mimetype": "text/x-python",
   "name": "python",
   "nbconvert_exporter": "python",
   "pygments_lexer": "ipython3",
   "version": "3.12.3"
  }
 },
 "nbformat": 4,
 "nbformat_minor": 2
}
